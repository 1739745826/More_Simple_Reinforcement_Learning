{
 "cells": [
  {
   "cell_type": "markdown",
   "metadata": {},
   "source": [
    "从一份良好的数据集中学习，训练过程中完全不更新数据"
   ]
  },
  {
   "cell_type": "code",
   "execution_count": 1,
   "metadata": {},
   "outputs": [
    {
     "data": {
      "text/plain": [
       "(20000,\n",
       " (tensor([0.9019, 0.4320, 0.8704]),\n",
       "  tensor([-1.5736]),\n",
       "  tensor([0.9651]),\n",
       "  tensor([0.8817, 0.4719, 0.8943]),\n",
       "  tensor([0])))"
      ]
     },
     "execution_count": 1,
     "metadata": {},
     "output_type": "execute_result"
    }
   ],
   "source": [
    "import torch\n",
    "\n",
    "\n",
    "#封装数据集\n",
    "class Dataset(torch.utils.data.Dataset):\n",
    "\n",
    "    def __init__(self):\n",
    "        import numpy as np\n",
    "        data = np.loadtxt('离线学习数据.txt')\n",
    "        self.state = torch.FloatTensor(data[:, :3]).reshape(-1, 3)\n",
    "        self.action = torch.FloatTensor(data[:, 3]).reshape(-1, 1)\n",
    "        self.reward = torch.FloatTensor(data[:, 4]).reshape(-1, 1)\n",
    "        self.next_state = torch.FloatTensor(data[:, 5:8]).reshape(-1, 3)\n",
    "        self.over = torch.LongTensor(data[:, 8]).reshape(-1, 1)\n",
    "\n",
    "    def __len__(self):\n",
    "        return len(self.state)\n",
    "\n",
    "    def __getitem__(self, i):\n",
    "        return self.state[i], self.action[i], self.reward[i], self.next_state[\n",
    "            i], self.over[i]\n",
    "\n",
    "\n",
    "dataset = Dataset()\n",
    "\n",
    "len(dataset), dataset[0]"
   ]
  },
  {
   "cell_type": "code",
   "execution_count": 2,
   "metadata": {},
   "outputs": [
    {
     "data": {
      "text/plain": [
       "312"
      ]
     },
     "execution_count": 2,
     "metadata": {},
     "output_type": "execute_result"
    }
   ],
   "source": [
    "#数据加载器\n",
    "loader = torch.utils.data.DataLoader(dataset=dataset,\n",
    "                                     batch_size=64,\n",
    "                                     shuffle=True,\n",
    "                                     drop_last=True)\n",
    "\n",
    "len(loader)"
   ]
  },
  {
   "cell_type": "code",
   "execution_count": 3,
   "metadata": {},
   "outputs": [
    {
     "data": {
      "text/plain": [
       "<__main__.CQL at 0x7f93e8b8a710>"
      ]
     },
     "execution_count": 3,
     "metadata": {},
     "output_type": "execute_result"
    }
   ],
   "source": [
    "import torch\n",
    "from sac import SAC\n",
    "\n",
    "\n",
    "#定义CQL算法\n",
    "class CQL(SAC):\n",
    "\n",
    "    def get_loss_cql(self, state, next_state, value):\n",
    "        #把state,next_state复制5遍\n",
    "        state = state.unsqueeze(dim=1).repeat(1, 5, 1).reshape(-1, 3)\n",
    "        next_state = next_state.unsqueeze(1).repeat(1, 5, 1).reshape(-1, 3)\n",
    "\n",
    "        #计算动作和熵\n",
    "        rand_action = torch.empty([len(state), 1]).uniform_(-1, 1)\n",
    "        curr_action, _ = self.get_action_entropy(state)\n",
    "        next_action, _ = self.get_action_entropy(next_state)\n",
    "\n",
    "        #计算三份动作分别的value\n",
    "        value_rand = self.model_value(torch.cat([state, rand_action], dim=1))\n",
    "        value_curr = self.model_value(torch.cat([state, curr_action], dim=1))\n",
    "        value_next = self.model_value(torch.cat([state, next_action], dim=1))\n",
    "\n",
    "        #拼合三份value\n",
    "        value_cat = torch.cat([value_rand, value_curr, value_next], dim=1)\n",
    "        loss_cat = value_cat.exp().sum(dim=1) + 1e-8\n",
    "        loss_cat = loss_cat.log().mean()\n",
    "\n",
    "        #在value loss上增加上这一部分\n",
    "        return 5.0 * (loss_cat - value.mean())\n",
    "\n",
    "\n",
    "cql = CQL()\n",
    "\n",
    "cql"
   ]
  },
  {
   "cell_type": "code",
   "execution_count": 4,
   "metadata": {},
   "outputs": [
    {
     "data": {
      "image/png": "[encoded data removed]",
      "text/plain": [
       "<Figure size 300x300 with 1 Axes>"
      ]
     },
     "metadata": {},
     "output_type": "display_data"
    }
   ],
   "source": [
    "import gym\n",
    "\n",
    "\n",
    "#定义环境\n",
    "class MyWrapper(gym.Wrapper):\n",
    "\n",
    "    def __init__(self):\n",
    "        env = gym.make('Pendulum-v1', render_mode='rgb_array')\n",
    "        super().__init__(env)\n",
    "        self.env = env\n",
    "        self.step_n = 0\n",
    "\n",
    "    def reset(self):\n",
    "        state, _ = self.env.reset()\n",
    "        self.step_n = 0\n",
    "        return state\n",
    "\n",
    "    def step(self, action):\n",
    "        state, reward, terminated, truncated, info = self.env.step(\n",
    "            [action * 2])\n",
    "        over = terminated or truncated\n",
    "\n",
    "        #偏移reward,便于训练\n",
    "        reward = (reward + 8) / 8\n",
    "\n",
    "        #限制最大步数\n",
    "        self.step_n += 1\n",
    "        if self.step_n >= 200:\n",
    "            over = True\n",
    "\n",
    "        return state, reward, over\n",
    "\n",
    "    #打印游戏图像\n",
    "    def show(self):\n",
    "        from matplotlib import pyplot as plt\n",
    "        plt.figure(figsize=(3, 3))\n",
    "        plt.imshow(self.env.render())\n",
    "        plt.show()\n",
    "\n",
    "\n",
    "env = MyWrapper()\n",
    "\n",
    "env.reset()\n",
    "\n",
    "env.show()"
   ]
  },
  {
   "cell_type": "code",
   "execution_count": 5,
   "metadata": {},
   "outputs": [
    {
     "name": "stderr",
     "output_type": "stream",
     "text": [
      "/root/miniconda3/envs/cuda117/lib/python3.10/site-packages/gym/utils/passive_env_checker.py:233: DeprecationWarning: `np.bool8` is a deprecated alias for `np.bool_`.  (Deprecated NumPy 1.24)\n",
      "  if not isinstance(terminated, (bool, np.bool8)):\n"
     ]
    },
    {
     "data": {
      "text/plain": [
       "49.54885690099563"
      ]
     },
     "execution_count": 5,
     "metadata": {},
     "output_type": "execute_result"
    }
   ],
   "source": [
    "from IPython import display\n",
    "import random\n",
    "\n",
    "\n",
    "#玩一局游戏并记录数据\n",
    "def play(show=False):\n",
    "    data = []\n",
    "    reward_sum = 0\n",
    "\n",
    "    state = env.reset()\n",
    "    over = False\n",
    "    while not over:\n",
    "        #根据概率采样\n",
    "        mu, sigma = cql.model_action(torch.FloatTensor(state).reshape(1, 3))\n",
    "        action = random.normalvariate(mu=mu.item(), sigma=sigma.item())\n",
    "\n",
    "        next_state, reward, over = env.step(action)\n",
    "\n",
    "        data.append((state, action, reward, next_state, over))\n",
    "        reward_sum += reward\n",
    "\n",
    "        state = next_state\n",
    "\n",
    "        if show:\n",
    "            display.clear_output(wait=True)\n",
    "            env.show()\n",
    "\n",
    "    return data, reward_sum\n",
    "\n",
    "\n",
    "play()[-1]"
   ]
  },
  {
   "cell_type": "code",
   "execution_count": 6,
   "metadata": {},
   "outputs": [
    {
     "name": "stdout",
     "output_type": "stream",
     "text": [
      "0 2.21518611907959 9.759054348477896\n",
      "10 14.770238876342773 57.34436458273679\n",
      "20 22.05959129333496 35.228655545379\n",
      "30 28.099075317382812 89.85440499866809\n",
      "40 36.08259582519531 114.27782861153207\n",
      "50 44.10224151611328 157.9843883786122\n",
      "60 46.83131790161133 171.1354479880918\n",
      "70 50.894508361816406 181.79026115481287\n",
      "80 53.198081970214844 176.78876272448744\n",
      "90 54.12747573852539 183.08075296407867\n",
      "100 55.96063995361328 179.21220952184632\n",
      "110 58.04907989501953 184.37389171490022\n",
      "120 58.42814254760742 177.3067626818911\n",
      "130 58.266326904296875 182.22527272364547\n",
      "140 60.356361389160156 173.62140559932726\n",
      "150 58.26789093017578 183.66146342147925\n",
      "160 60.373321533203125 173.5510082565807\n",
      "170 59.34394836425781 178.38124251421726\n",
      "180 59.59429931640625 178.6704264063767\n",
      "190 60.33028030395508 174.081362401392\n"
     ]
    }
   ],
   "source": [
    "def train():\n",
    "    for epoch in range(200):\n",
    "        for i, (state, action, reward, next_state, over) in enumerate(loader):\n",
    "            cql.train_value(state, action, reward, next_state, over)\n",
    "            cql.train_action(state)\n",
    "\n",
    "        if epoch % 10 == 0:\n",
    "            value = cql.model_value(torch.cat([state, action],\n",
    "                                              dim=1)).mean().item()\n",
    "            test_result = sum([play()[-1] for _ in range(20)]) / 20\n",
    "            print(epoch, value, test_result)\n",
    "\n",
    "\n",
    "train()"
   ]
  },
  {
   "cell_type": "code",
   "execution_count": 7,
   "metadata": {},
   "outputs": [
    {
     "data": {
      "image/png": "[encoded data removed]",
      "text/plain": [
       "<Figure size 300x300 with 1 Axes>"
      ]
     },
     "metadata": {},
     "output_type": "display_data"
    },
    {
     "data": {
      "text/plain": [
       "169.81928665726804"
      ]
     },
     "execution_count": 7,
     "metadata": {},
     "output_type": "execute_result"
    }
   ],
   "source": [
    "play(True)[-1]"
   ]
  }
 ],
 "metadata": {
  "colab": {
   "collapsed_sections": [],
   "name": "第7章-DQN算法.ipynb",
   "provenance": []
  },
  "kernelspec": {
   "display_name": "Python [conda env:cuda117]",
   "language": "python",
   "name": "conda-env-cuda117-py"
  },
  "language_info": {
   "codemirror_mode": {
    "name": "ipython",
    "version": 3
   },
   "file_extension": ".py",
   "mimetype": "text/x-python",
   "name": "python",
   "nbconvert_exporter": "python",
   "pygments_lexer": "ipython3",
   "version": "3.10.13"
  }
 },
 "nbformat": 4,
 "nbformat_minor": 1
}
