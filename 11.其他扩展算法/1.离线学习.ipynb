{
 "cells": [
  {
   "cell_type": "code",
   "execution_count": 1,
   "metadata": {},
   "outputs": [
    {
     "data": {
      "text/plain": [
       "(20000,\n",
       " (tensor([0.9019, 0.4320, 0.8704]),\n",
       "  tensor([-1.5736]),\n",
       "  tensor([0.9651]),\n",
       "  tensor([0.8817, 0.4719, 0.8943]),\n",
       "  tensor([0])))"
      ]
     },
     "execution_count": 1,
     "metadata": {},
     "output_type": "execute_result"
    }
   ],
   "source": [
    "import torch\n",
    "\n",
    "\n",
    "#封装数据集\n",
    "class Dataset(torch.utils.data.Dataset):\n",
    "\n",
    "    def __init__(self):\n",
    "        import numpy as np\n",
    "        data = np.loadtxt('离线学习数据.txt')\n",
    "        self.state = torch.FloatTensor(data[:, :3]).reshape(-1, 3)\n",
    "        self.action = torch.FloatTensor(data[:, 3]).reshape(-1, 1)\n",
    "        self.reward = torch.FloatTensor(data[:, 4]).reshape(-1, 1)\n",
    "        self.next_state = torch.FloatTensor(data[:, 5:8]).reshape(-1, 3)\n",
    "        self.over = torch.LongTensor(data[:, 8]).reshape(-1, 1)\n",
    "\n",
    "    def __len__(self):\n",
    "        return len(self.state)\n",
    "\n",
    "    def __getitem__(self, i):\n",
    "        return self.state[i], self.action[i], self.reward[i], self.next_state[\n",
    "            i], self.over[i]\n",
    "\n",
    "\n",
    "dataset = Dataset()\n",
    "\n",
    "len(dataset), dataset[0]"
   ]
  },
  {
   "cell_type": "code",
   "execution_count": 2,
   "metadata": {},
   "outputs": [
    {
     "data": {
      "text/plain": [
       "312"
      ]
     },
     "execution_count": 2,
     "metadata": {},
     "output_type": "execute_result"
    }
   ],
   "source": [
    "#数据加载器\n",
    "loader = torch.utils.data.DataLoader(dataset=dataset,\n",
    "                                     batch_size=64,\n",
    "                                     shuffle=True,\n",
    "                                     drop_last=True)\n",
    "\n",
    "len(loader)"
   ]
  },
  {
   "cell_type": "code",
   "execution_count": 3,
   "metadata": {},
   "outputs": [
    {
     "data": {
      "text/plain": [
       "<__main__.CQL at 0x7fd9a764c640>"
      ]
     },
     "execution_count": 3,
     "metadata": {},
     "output_type": "execute_result"
    }
   ],
   "source": [
    "import torch\n",
    "from sac import SAC\n",
    "\n",
    "\n",
    "#定义CQL算法\n",
    "class CQL(SAC):\n",
    "\n",
    "    def get_loss_cql(self, state, next_state, value):\n",
    "        #把state,next_state复制5遍\n",
    "        state = state.unsqueeze(dim=1).repeat(1, 5, 1).reshape(-1, 3)\n",
    "        next_state = next_state.unsqueeze(1).repeat(1, 5, 1).reshape(-1, 3)\n",
    "\n",
    "        #计算动作和熵\n",
    "        rand_action = torch.empty([len(state), 1]).uniform_(-1, 1)\n",
    "        curr_action, curr_entropy = self.get_action_entropy(state)\n",
    "        next_action, next_entropy = self.get_action_entropy(next_state)\n",
    "\n",
    "        #计算三份动作分别的value\n",
    "        value_rand = self.model_value(torch.cat([state, rand_action],\n",
    "                                                dim=1)).reshape(-1, 5, 1)\n",
    "        value_curr = self.model_value(torch.cat([state, curr_action],\n",
    "                                                dim=1)).reshape(-1, 5, 1)\n",
    "        value_next = self.model_value(torch.cat([state, next_action],\n",
    "                                                dim=1)).reshape(-1, 5, 1)\n",
    "\n",
    "        curr_entropy = curr_entropy.detach().reshape(-1, 5, 1)\n",
    "        next_entropy = next_entropy.detach().reshape(-1, 5, 1)\n",
    "\n",
    "        #三份value分别减去他们的熵\n",
    "        #-0.6931471805599453 = math.log(0.5)\n",
    "        value_rand -= -0.6931471805599453\n",
    "        value_curr -= curr_entropy\n",
    "        value_next -= next_entropy\n",
    "\n",
    "        #拼合三份value\n",
    "        value_cat = torch.cat([value_rand, value_curr, value_next], dim=1)\n",
    "        loss_cat = value_cat.exp().sum(dim=1).log().mean()\n",
    "\n",
    "        #在原本的loss上增加上这一部分\n",
    "        return 5.0 * (loss_cat - value.mean())\n",
    "\n",
    "\n",
    "cql = CQL()\n",
    "\n",
    "cql"
   ]
  },
  {
   "cell_type": "code",
   "execution_count": 4,
   "metadata": {},
   "outputs": [
    {
     "data": {
      "image/png": "[encoded data removed]",
      "text/plain": [
       "<Figure size 300x300 with 1 Axes>"
      ]
     },
     "metadata": {},
     "output_type": "display_data"
    }
   ],
   "source": [
    "import gym\n",
    "\n",
    "\n",
    "#定义环境\n",
    "class MyWrapper(gym.Wrapper):\n",
    "\n",
    "    def __init__(self):\n",
    "        env = gym.make('Pendulum-v1', render_mode='rgb_array')\n",
    "        super().__init__(env)\n",
    "        self.env = env\n",
    "        self.step_n = 0\n",
    "\n",
    "    def reset(self):\n",
    "        state, _ = self.env.reset()\n",
    "        self.step_n = 0\n",
    "        return state\n",
    "\n",
    "    def step(self, action):\n",
    "        state, reward, terminated, truncated, info = self.env.step(\n",
    "            [action * 2])\n",
    "        over = terminated or truncated\n",
    "\n",
    "        #偏移reward,便于训练\n",
    "        reward = (reward + 8) / 8\n",
    "\n",
    "        #限制最大步数\n",
    "        self.step_n += 1\n",
    "        if self.step_n >= 200:\n",
    "            over = True\n",
    "\n",
    "        return state, reward, over\n",
    "\n",
    "    #打印游戏图像\n",
    "    def show(self):\n",
    "        from matplotlib import pyplot as plt\n",
    "        plt.figure(figsize=(3, 3))\n",
    "        plt.imshow(self.env.render())\n",
    "        plt.show()\n",
    "\n",
    "\n",
    "env = MyWrapper()\n",
    "\n",
    "env.reset()\n",
    "\n",
    "env.show()"
   ]
  },
  {
   "cell_type": "code",
   "execution_count": 5,
   "metadata": {},
   "outputs": [
    {
     "data": {
      "text/plain": [
       "50.913929081468524"
      ]
     },
     "execution_count": 5,
     "metadata": {},
     "output_type": "execute_result"
    }
   ],
   "source": [
    "from IPython import display\n",
    "import random\n",
    "\n",
    "\n",
    "#玩一局游戏并记录数据\n",
    "def play(show=False):\n",
    "    data = []\n",
    "    reward_sum = 0\n",
    "\n",
    "    state = env.reset()\n",
    "    over = False\n",
    "    while not over:\n",
    "        #根据概率采样\n",
    "        mu, sigma = cql.model_action(torch.FloatTensor(state).reshape(1, 3))\n",
    "        action = random.normalvariate(mu=mu.item(), sigma=sigma.item())\n",
    "\n",
    "        next_state, reward, over = env.step(action)\n",
    "\n",
    "        data.append((state, action, reward, next_state, over))\n",
    "        reward_sum += reward\n",
    "\n",
    "        state = next_state\n",
    "\n",
    "        if show:\n",
    "            display.clear_output(wait=True)\n",
    "            env.show()\n",
    "\n",
    "    return data, reward_sum\n",
    "\n",
    "\n",
    "play()[-1]"
   ]
  },
  {
   "cell_type": "code",
   "execution_count": 6,
   "metadata": {},
   "outputs": [
    {
     "name": "stdout",
     "output_type": "stream",
     "text": [
      "0 13.875822089482446\n",
      "10 14.038670144211011\n",
      "20 43.05573207452028\n",
      "30 100.48515742635345\n",
      "40 155.40882508483966\n",
      "50 125.87853438927903\n",
      "60 104.61060542830981\n",
      "70 94.20149997923656\n",
      "80 141.952184150454\n",
      "90 120.67394031059686\n",
      "100 131.55446931288566\n",
      "110 125.69580745757926\n",
      "120 144.64473570363813\n",
      "130 145.9575588365455\n",
      "140 136.35601893991512\n",
      "150 139.22819598233917\n",
      "160 125.65486657275078\n",
      "170 118.63061119526728\n",
      "180 120.03465550187825\n",
      "190 124.59026179267951\n"
     ]
    }
   ],
   "source": [
    "def train():\n",
    "    for epoch in range(200):\n",
    "        for i, (state, action, reward, next_state, over) in enumerate(loader):\n",
    "            cql.train_value(state, action, reward, next_state, over)\n",
    "            cql.train_action(state)\n",
    "\n",
    "        if epoch % 10 == 0:\n",
    "            test_result = sum([play()[-1] for _ in range(20)]) / 20\n",
    "            print(epoch, test_result)\n",
    "\n",
    "\n",
    "train()"
   ]
  },
  {
   "cell_type": "code",
   "execution_count": 7,
   "metadata": {},
   "outputs": [
    {
     "data": {
      "image/png": "[encoded data removed]",
      "text/plain": [
       "<Figure size 300x300 with 1 Axes>"
      ]
     },
     "metadata": {},
     "output_type": "display_data"
    },
    {
     "data": {
      "text/plain": [
       "156.6398188642086"
      ]
     },
     "execution_count": 7,
     "metadata": {},
     "output_type": "execute_result"
    }
   ],
   "source": [
    "play(True)[-1]"
   ]
  }
 ],
 "metadata": {
  "colab": {
   "collapsed_sections": [],
   "name": "第7章-DQN算法.ipynb",
   "provenance": []
  },
  "kernelspec": {
   "display_name": "Python [conda env:pt39]",
   "language": "python",
   "name": "conda-env-pt39-py"
  },
  "language_info": {
   "codemirror_mode": {
    "name": "ipython",
    "version": 3
   },
   "file_extension": ".py",
   "mimetype": "text/x-python",
   "name": "python",
   "nbconvert_exporter": "python",
   "pygments_lexer": "ipython3",
   "version": "3.9.13"
  }
 },
 "nbformat": 4,
 "nbformat_minor": 1
}
